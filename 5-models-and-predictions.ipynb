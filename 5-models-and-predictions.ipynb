{
 "cells": [
  {
   "cell_type": "code",
   "execution_count": null,
   "metadata": {},
   "outputs": [],
   "source": [
    "import numpy as np\n",
    "import pandas as pd\n",
    "from sklearn.ensemble import IsolationForest\n",
    "from sklearn.model_selection import train_test_split\n",
    "from sklearn.preprocessing import MinMaxScaler\n",
    "from sklearn.metrics import mean_squared_error, r2_score\n",
    "from sklearn.linear_model import LinearRegression\n",
    "from xgboost import XGBRegressor\n",
    "from lightgbm import LGBMRegressor\n",
    "import joblib\n"
   ]
  },
  {
   "cell_type": "code",
   "execution_count": null,
   "metadata": {},
   "outputs": [],
   "source": [
    "master_df = pd.read_csv(\"data/merged-final-data/Final_Merged_July_21_June_23.csv\")"
   ]
  },
  {
   "cell_type": "code",
   "execution_count": null,
   "metadata": {},
   "outputs": [],
   "source": [
    "master_df.drop ('Unnamed: 0', axis = 1, inplace = True)\n",
    "master_df.columns"
   ]
  },
  {
   "cell_type": "code",
   "execution_count": null,
   "metadata": {},
   "outputs": [],
   "source": [
    "air_code = np.unique(master_df[['ORIGIN','DEST']].values)"
   ]
  },
  {
   "cell_type": "code",
   "execution_count": null,
   "metadata": {},
   "outputs": [],
   "source": [
    "flight_features = ['OP_UNIQUE_CARRIER', 'ORIGIN', 'DEST', 'DEP_TIME_HOUR', 'ARR_TIME_HOUR', 'DISTANCE']\n",
    "\n",
    "dep_weather_features = ['wind_gusts_10m_DEP', 'snow_depth_DEP', 'precipitation_DEP', 'wind_speed_100m_DEP',\n",
    "                        'wind_direction_100m_DEP', 'rain_DEP','shortwave_radiation_DEP','relative_humidity_2m_DEP',\n",
    "                        'cloud_cover_DEP','temperature_2m_DEP']\n",
    "\n",
    "arr_weather_features = ['wind_gusts_10m_ARR', 'snow_depth_ARR', 'precipitation_ARR', 'wind_speed_100m_ARR',\n",
    "                        'wind_direction_100m_ARR', 'rain_ARR','shortwave_radiation_ARR','relative_humidity_2m_ARR',\n",
    "                        'cloud_cover_ARR','temperature_2m_ARR']\n",
    "target_features = ['ARR_DELAY', 'DEP_DELAY']"
   ]
  },
  {
   "cell_type": "code",
   "execution_count": null,
   "metadata": {},
   "outputs": [],
   "source": [
    "master_df = master_df[flight_features+dep_weather_features+arr_weather_features+target_features]"
   ]
  },
  {
   "cell_type": "code",
   "execution_count": null,
   "metadata": {},
   "outputs": [],
   "source": [
    "null_count = master_df.isnull().sum()\n",
    "null_count"
   ]
  },
  {
   "cell_type": "code",
   "execution_count": null,
   "metadata": {},
   "outputs": [],
   "source": [
    "master_df = master_df.fillna(0)"
   ]
  },
  {
   "cell_type": "code",
   "execution_count": null,
   "metadata": {},
   "outputs": [],
   "source": [
    "def frequency_encode(df, feature):\n",
    "    frequency = df[feature].value_counts()\n",
    "    df[feature] = df[feature].map(frequency)\n",
    "    return df\n",
    "\n",
    "categorical_features = ['OP_UNIQUE_CARRIER', 'ORIGIN', 'DEST']\n",
    "\n",
    "# Apply frequency encoding to each categorical feature\n",
    "for feature in categorical_features:\n",
    "    master_df = frequency_encode(master_df, feature)"
   ]
  },
  {
   "cell_type": "code",
   "execution_count": null,
   "metadata": {},
   "outputs": [],
   "source": [
    "master_df"
   ]
  },
  {
   "cell_type": "code",
   "execution_count": null,
   "metadata": {},
   "outputs": [],
   "source": [
    "\n",
    "\n",
    "\n",
    "iso_forest = IsolationForest(n_estimators=100, contamination=0.01, random_state=42)\n",
    "\n",
    "# Fit the model\n",
    "iso_forest.fit(master_df)\n",
    "\n",
    "# Predict outliers\n",
    "outliers = iso_forest.predict(master_df)\n",
    "\n",
    "# Data points classified as -1 are outliers\n",
    "master_df = master_df[outliers != -1]\n"
   ]
  },
  {
   "cell_type": "code",
   "execution_count": null,
   "metadata": {},
   "outputs": [],
   "source": [
    "print(f\"values removed {len(master_df)}\")"
   ]
  },
  {
   "cell_type": "code",
   "execution_count": null,
   "metadata": {},
   "outputs": [],
   "source": [
    "master_df"
   ]
  },
  {
   "cell_type": "markdown",
   "metadata": {},
   "source": [
    "Model 1 - XGB Regressor"
   ]
  },
  {
   "cell_type": "code",
   "execution_count": null,
   "metadata": {},
   "outputs": [],
   "source": [
    "df = master_df.copy()"
   ]
  },
  {
   "cell_type": "code",
   "execution_count": null,
   "metadata": {},
   "outputs": [],
   "source": [
    "\n",
    "\n",
    "# Assuming 'df' is your DataFrame\n",
    "df['TOTAL_DELAY'] = df['DEP_DELAY'] + df['ARR_DELAY']\n",
    "\n",
    "# Features list\n",
    "all_features = flight_features + dep_weather_features + arr_weather_features\n",
    "\n",
    "# Exclude target variable from features for scaling\n",
    "features_for_scaling = [f for f in all_features if f not in ['TOTAL_DELAY']]\n",
    "#features_for_scaling = all_features\n",
    "\n",
    "# Scaling features\n",
    "scaler = MinMaxScaler()\n",
    "df[features_for_scaling] = scaler.fit_transform(df[features_for_scaling])\n",
    "df[features_for_scaling] = np.sin(df[features_for_scaling])\n",
    "\n",
    "# Split data into train and test sets\n",
    "X = df[all_features]\n",
    "y = df['TOTAL_DELAY']\n",
    "X_train, X_test, y_train, y_test = train_test_split(X, y, test_size=0.2, random_state=42)\n",
    "\n",
    "# Initialize and train the XGBoost model\n",
    "model_xgb_final = XGBRegressor(objective='reg:squarederror')\n",
    "model_xgb_final.fit(X_train, y_train)\n",
    "\n",
    "# Predictions and evaluation\n",
    "y_pred = model_xgb_final.predict(X_test)\n",
    "mse = mean_squared_error(y_test, y_pred)\n",
    "rmse = np.sqrt(mse)\n",
    "\n",
    "print(\"RMSE: \", rmse)\n",
    "r_squared = r2_score(y_test, y_pred)\n",
    "\n",
    "print(f\"R^2 Score: {r_squared}\")"
   ]
  },
  {
   "cell_type": "code",
   "execution_count": null,
   "metadata": {},
   "outputs": [],
   "source": [
    "predict_df = pd.read_csv(\"data/predict-data-3-months/predict-data.csv\")\n",
    "predict_df.drop ('Unnamed: 0', axis = 1, inplace = True)\n",
    "for feature in categorical_features:\n",
    "    predict_df = frequency_encode(predict_df, feature)\n",
    "\n",
    "predict_df_actual = predict_df['DEP_DELAY'] + predict_df['ARR_DELAY']\n",
    "\n",
    "# Features list\n",
    "all_features = flight_features + dep_weather_features + arr_weather_features\n",
    "predict_df = predict_df[all_features]\n",
    "\n",
    "# Exclude target variable from features for scaling\n",
    "features_for_scaling = [f for f in all_features if f not in ['TOTAL_DELAY']]\n",
    "#features_for_scaling = all_features\n",
    "\n",
    "# Scaling features\n",
    "predict_df[features_for_scaling] = scaler.fit_transform(predict_df[features_for_scaling])\n",
    "predict_df[features_for_scaling] = np.sin(predict_df[features_for_scaling])\n",
    "print(predict_df_actual.shape)\n",
    "y_pred=model_xgb_final.predict(predict_df)\n",
    "print(y_pred.shape)\n",
    "mse = mean_squared_error(predict_df_actual, y_pred)\n",
    "rmse = np.sqrt(mse)\n",
    "\n",
    "print(\"RMSE: \", rmse)\n",
    "r_squared = r2_score(predict_df_actual, y_pred)\n",
    "\n",
    "print(f\"R^2 Score: {r_squared}\")"
   ]
  },
  {
   "cell_type": "code",
   "execution_count": null,
   "metadata": {},
   "outputs": [],
   "source": [
    "df = master_df.copy()"
   ]
  },
  {
   "cell_type": "code",
   "execution_count": null,
   "metadata": {},
   "outputs": [],
   "source": [
    "\n",
    "# Assuming 'df' is your DataFrame\n",
    "df['TOTAL_DELAY'] = df['DEP_DELAY'] + df['ARR_DELAY']\n",
    "\n",
    "\n",
    "# Features list\n",
    "all_features = flight_features\n",
    "# Exclude target variable from features for scaling\n",
    "features_for_scaling = [f for f in all_features if f not in ['TOTAL_DELAY']]\n",
    "#features_for_scaling = all_features\n",
    "\n",
    "# Scaling features\n",
    "scaler = MinMaxScaler()\n",
    "df[features_for_scaling] = scaler.fit_transform(df[features_for_scaling])\n",
    "df[features_for_scaling] = np.sin(df[features_for_scaling])\n",
    "\n",
    "# Split data into train and test sets\n",
    "X = df[all_features]\n",
    "y = df['TOTAL_DELAY']\n",
    "X_train, X_test, y_train, y_test = train_test_split(X, y, test_size=0.2, random_state=42)\n",
    "\n",
    "# Initialize and train the XGBoost model\n",
    "model = XGBRegressor(objective='reg:squarederror')\n",
    "model.fit(X_train, y_train)\n",
    "\n",
    "# Predictions and evaluation\n",
    "y_pred = model.predict(X_test)\n",
    "mse = mean_squared_error(y_test, y_pred)\n",
    "rmse = np.sqrt(mse)\n",
    "\n",
    "print(\"RMSE: \", rmse)\n",
    "\n",
    "r_squared = r2_score(y_test, y_pred)\n",
    "\n",
    "print(f\"R^2 Score: {r_squared}\")"
   ]
  },
  {
   "cell_type": "markdown",
   "metadata": {},
   "source": [
    "Model 2 - Linear Regression"
   ]
  },
  {
   "cell_type": "code",
   "execution_count": null,
   "metadata": {},
   "outputs": [],
   "source": [
    "df = master_df.copy()\n",
    "df"
   ]
  },
  {
   "cell_type": "code",
   "execution_count": null,
   "metadata": {},
   "outputs": [],
   "source": [
    "\n",
    "\n",
    "# Assuming 'df' is your DataFrame\n",
    "df['TOTAL_DELAY'] = df['DEP_DELAY'] + df['ARR_DELAY']\n",
    "\n",
    "# Features list\n",
    "all_features = flight_features + dep_weather_features + arr_weather_features\n",
    "\n",
    "# Exclude target variable from features for scaling\n",
    "features_for_scaling = [f for f in all_features if f not in ['TOTAL_DELAY']]\n",
    "\n",
    "# Scaling features\n",
    "scaler = MinMaxScaler()\n",
    "df[features_for_scaling] = scaler.fit_transform(df[features_for_scaling])\n",
    "df[features_for_scaling] = np.sin(df[features_for_scaling])\n",
    "\n",
    "# Split data into train and test sets\n",
    "X = df[all_features]\n",
    "y = df['TOTAL_DELAY']\n",
    "X_train, X_test, y_train, y_test = train_test_split(X, y, test_size=0.2, random_state=42)\n",
    "\n",
    "# Initialize and train the Random Forest model\n",
    "model_lr_final = LinearRegression()\n",
    "model_lr_final.fit(X_train, y_train)\n",
    "\n",
    "# Predictions and evaluation\n",
    "y_pred = model_lr_final.predict(X_test)\n",
    "mse = mean_squared_error(y_test, y_pred)\n",
    "rmse = np.sqrt(mse)\n",
    "\n",
    "print(\"RMSE: \", rmse)\n",
    "r_squared = r2_score(y_test, y_pred)\n",
    "\n",
    "print(f\"R^2 Score: {r_squared}\")"
   ]
  },
  {
   "cell_type": "code",
   "execution_count": null,
   "metadata": {},
   "outputs": [],
   "source": [
    "predict_df = pd.read_csv(\"data/predict-data-3-months/predict-data.csv\")\n",
    "predict_df.drop ('Unnamed: 0', axis = 1, inplace = True)\n",
    "for feature in categorical_features:\n",
    "    predict_df = frequency_encode(predict_df, feature)\n",
    "\n",
    "predict_df_actual = predict_df['DEP_DELAY'] + predict_df['ARR_DELAY']\n",
    "\n",
    "# Features list\n",
    "all_features = flight_features + dep_weather_features + arr_weather_features\n",
    "predict_df = predict_df[all_features]\n",
    "\n",
    "# Exclude target variable from features for scaling\n",
    "features_for_scaling = [f for f in all_features if f not in ['TOTAL_DELAY']]\n",
    "\n",
    "# Scaling features\n",
    "predict_df[features_for_scaling] = scaler.fit_transform(predict_df[features_for_scaling])\n",
    "predict_df[features_for_scaling] = np.sin(predict_df[features_for_scaling])\n",
    "print(predict_df_actual.shape)\n",
    "y_pred=model_lr_final.predict(predict_df)\n",
    "print(y_pred.shape)\n",
    "mse = mean_squared_error(predict_df_actual, y_pred)\n",
    "rmse = np.sqrt(mse)\n",
    "\n",
    "print(\"RMSE: \", rmse)\n",
    "r_squared = r2_score(predict_df_actual, y_pred)\n",
    "\n",
    "print(f\"R^2 Score: {r_squared}\")"
   ]
  },
  {
   "cell_type": "code",
   "execution_count": null,
   "metadata": {},
   "outputs": [],
   "source": [
    "df = master_df.copy()"
   ]
  },
  {
   "cell_type": "code",
   "execution_count": null,
   "metadata": {},
   "outputs": [],
   "source": [
    "\n",
    "\n",
    "# Assuming 'df' is your DataFrame\n",
    "df['TOTAL_DELAY'] = df['DEP_DELAY'] + df['ARR_DELAY']\n",
    "\n",
    "\n",
    "# Features list\n",
    "all_features = flight_features\n",
    "# Exclude target variable from features for scaling\n",
    "features_for_scaling = [f for f in all_features if f not in ['TOTAL_DELAY']]\n",
    "\n",
    "# Scaling features\n",
    "scaler = MinMaxScaler()\n",
    "df[features_for_scaling] = scaler.fit_transform(df[features_for_scaling])\n",
    "df[features_for_scaling] = np.sin(df[features_for_scaling])\n",
    "\n",
    "# Split data into train and test sets\n",
    "X = df[all_features]\n",
    "y = df['TOTAL_DELAY']\n",
    "X_train, X_test, y_train, y_test = train_test_split(X, y, test_size=0.2, random_state=42)\n",
    "\n",
    "# Initialize and train the Random Forest model\n",
    "model = LinearRegression()\n",
    "model.fit(X_train, y_train)\n",
    "\n",
    "# Predictions and evaluation\n",
    "y_pred = model.predict(X_test)\n",
    "mse = mean_squared_error(y_test, y_pred)\n",
    "rmse = np.sqrt(mse)\n",
    "\n",
    "print(\"RMSE: \", rmse)\n",
    "r_squared = r2_score(y_test, y_pred)\n",
    "\n",
    "print(f\"R^2 Score: {r_squared}\")"
   ]
  },
  {
   "cell_type": "markdown",
   "metadata": {},
   "source": [
    "Model 3 - Light BGM"
   ]
  },
  {
   "cell_type": "code",
   "execution_count": null,
   "metadata": {},
   "outputs": [],
   "source": [
    "df = master_df.copy()"
   ]
  },
  {
   "cell_type": "code",
   "execution_count": null,
   "metadata": {},
   "outputs": [],
   "source": [
    "# Assuming 'df' is your DataFrame\n",
    "df['TOTAL_DELAY'] = df['DEP_DELAY'] + df['ARR_DELAY']\n",
    "\n",
    "# Encoding high-cardinality categorical variables\n",
    "# Features list\n",
    "all_features = flight_features + dep_weather_features + arr_weather_features\n",
    "\n",
    "# Exclude target variable from features for scaling\n",
    "features_for_scaling = [f for f in all_features if f not in ['TOTAL_DELAY']]\n",
    "\n",
    "# Scaling features\n",
    "scaler = MinMaxScaler()\n",
    "df[features_for_scaling] = scaler.fit_transform(df[features_for_scaling])\n",
    "\n",
    "# Split data into train and test sets\n",
    "X = df[all_features]\n",
    "y = df['TOTAL_DELAY']\n",
    "X_train, X_test, y_train, y_test = train_test_split(X, y, test_size=0.2, random_state=42)\n",
    "\n",
    "# Initialize and train the LightGBM model\n",
    "model_lgbm_final = LGBMRegressor()\n",
    "model_lgbm_final.fit(X_train, y_train)\n",
    "\n",
    "# Predictions and evaluation\n",
    "y_pred = model_lgbm_final.predict(X_test)\n",
    "mse = mean_squared_error(y_test, y_pred)\n",
    "rmse = np.sqrt(mse)\n",
    "\n",
    "print(\"RMSE: \", rmse)\n",
    "r_squared = r2_score(y_test, y_pred)\n",
    "\n",
    "print(f\"R^2 Score: {r_squared}\")\n"
   ]
  },
  {
   "cell_type": "code",
   "execution_count": null,
   "metadata": {},
   "outputs": [],
   "source": [
    "predict_df = pd.read_csv(\"data/predict-data-3-months/predict-data.csv\")\n",
    "predict_df.drop ('Unnamed: 0', axis = 1, inplace = True)\n",
    "for feature in categorical_features:\n",
    "    predict_df = frequency_encode(predict_df, feature)\n",
    "\n",
    "predict_df_actual = predict_df['DEP_DELAY'] + predict_df['ARR_DELAY']\n",
    "\n",
    "# Features list\n",
    "all_features = flight_features + dep_weather_features + arr_weather_features\n",
    "predict_df = predict_df[all_features]\n",
    "\n",
    "# Exclude target variable from features for scaling\n",
    "features_for_scaling = [f for f in all_features if f not in ['TOTAL_DELAY']]\n",
    "\n",
    "# Scaling features\n",
    "predict_df[features_for_scaling] = scaler.fit_transform(predict_df[features_for_scaling])\n",
    "print(predict_df_actual.shape)\n",
    "y_pred=model_lgbm_final.predict(predict_df)\n",
    "print(y_pred.shape)\n",
    "mse = mean_squared_error(predict_df_actual, y_pred)\n",
    "rmse = np.sqrt(mse)\n",
    "\n",
    "print(\"RMSE: \", rmse)\n",
    "r_squared = r2_score(predict_df_actual, y_pred)\n",
    "\n",
    "print(f\"R^2 Score: {r_squared}\")"
   ]
  },
  {
   "cell_type": "code",
   "execution_count": null,
   "metadata": {},
   "outputs": [],
   "source": [
    "df = master_df.copy()"
   ]
  },
  {
   "cell_type": "code",
   "execution_count": null,
   "metadata": {},
   "outputs": [],
   "source": [
    "# Function for frequency encoding\n",
    "\n",
    "# Assuming 'df' is your DataFrame\n",
    "df['TOTAL_DELAY'] = df['DEP_DELAY'] + df['ARR_DELAY']\n",
    "\n",
    "# Encoding high-cardinality categorical variables\n",
    "\n",
    "# Features list\n",
    "all_features = flight_features\n",
    "# Exclude target variable from features for scaling\n",
    "features_for_scaling = [f for f in all_features if f not in ['TOTAL_DELAY']]\n",
    "\n",
    "# Scaling features\n",
    "scaler = MinMaxScaler()\n",
    "df[features_for_scaling] = scaler.fit_transform(df[features_for_scaling])\n",
    "\n",
    "# Split data into train and test sets\n",
    "X = df[all_features]\n",
    "y = df['TOTAL_DELAY']\n",
    "X_train, X_test, y_train, y_test = train_test_split(X, y, test_size=0.2, random_state=42)\n",
    "\n",
    "# Initialize and train the LightGBM model\n",
    "model = LGBMRegressor()\n",
    "model.fit(X_train, y_train)\n",
    "\n",
    "# Predictions and evaluation\n",
    "y_pred = model.predict(X_test)\n",
    "mse = mean_squared_error(y_test, y_pred)\n",
    "rmse = np.sqrt(mse)\n",
    "\n",
    "print(\"RMSE: \", rmse)\n",
    "r_squared = r2_score(y_test, y_pred)\n",
    "\n",
    "print(f\"R^2 Score: {r_squared}\")\n"
   ]
  },
  {
   "cell_type": "code",
   "execution_count": null,
   "metadata": {},
   "outputs": [],
   "source": [
    "joblib.dump(model_lgbm_final, 'Models/lgbm.pkl')"
   ]
  },
  {
   "cell_type": "code",
   "execution_count": null,
   "metadata": {},
   "outputs": [],
   "source": [
    "joblib.dump(model_xgb_final, 'Models/xgb.pkl')"
   ]
  },
  {
   "cell_type": "code",
   "execution_count": null,
   "metadata": {},
   "outputs": [],
   "source": [
    "joblib.dump(model_lr_final, 'Models/lr.pkl')"
   ]
  }
 ],
 "metadata": {
  "language_info": {
   "name": "python"
  }
 },
 "nbformat": 4,
 "nbformat_minor": 2
}
