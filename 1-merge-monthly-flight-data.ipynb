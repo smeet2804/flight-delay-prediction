{
 "cells": [
  {
   "cell_type": "code",
   "execution_count": 25,
   "metadata": {},
   "outputs": [],
   "source": [
    "import os\n",
    "import pandas as pd\n",
    "import zipfile\n",
    "\n",
    "def process_flight_data(folder_path, output_filename):\n",
    "    master_df = pd.DataFrame()\n",
    "\n",
    "    for filename in os.listdir(folder_path):\n",
    "        if filename.endswith('.zip'):\n",
    "            zip_path = os.path.join(folder_path, filename)\n",
    "            with zipfile.ZipFile(zip_path, 'r') as z:\n",
    "                for file_in_zip in z.namelist():\n",
    "                    if file_in_zip.endswith('.csv'):\n",
    "                        with z.open(file_in_zip) as my_file:\n",
    "                            df = pd.read_csv(my_file)\n",
    "                            master_df = pd.concat([master_df, df], ignore_index=True)\n",
    "    \n",
    "    master_df.to_csv(os.path.join(folder_path,output_filename))\n",
    "    print(f\"Data processed and saved to {output_filename}\")\n",
    "\n"
   ]
  },
  {
   "cell_type": "code",
   "execution_count": 17,
   "metadata": {},
   "outputs": [],
   "source": [
    "# os.chdir('C:\\\\Users\\\\smeshah\\\\Desktop\\\\flight-delay-prediction')"
   ]
  },
  {
   "cell_type": "code",
   "execution_count": 26,
   "metadata": {},
   "outputs": [
    {
     "name": "stdout",
     "output_type": "stream",
     "text": [
      "Data processed and saved to New_york_Flight_Data_July_2023_June_2023.csv\n",
      "Data processed and saved to Alaska_Flight_Data_July_2023_June_2023.csv\n",
      "Data processed and saved to Washington_Flight_Data_July_2023_June_2023.csv\n"
     ]
    }
   ],
   "source": [
    "# Define the folder paths for each location based on your structure\n",
    "locations = {\n",
    "    \"new-york\": \"./data/raw-monthly-flight-data/new-york\",\n",
    "    \"alaska\": \"./data/raw-monthly-flight-data/alaska\",\n",
    "    \"washington\": \"./data/raw-monthly-flight-data/washington\"\n",
    "}\n",
    "\n",
    "# Process data for each location\n",
    "for location, folder_path in locations.items():\n",
    "    output_filename = f\"{location.capitalize().replace('-', '_')}_Flight_Data_July_2023_June_2023.csv\"\n",
    "    process_flight_data(folder_path, output_filename)\n"
   ]
  }
 ],
 "metadata": {
  "kernelspec": {
   "display_name": "Python 3",
   "language": "python",
   "name": "python3"
  },
  "language_info": {
   "codemirror_mode": {
    "name": "ipython",
    "version": 3
   },
   "file_extension": ".py",
   "mimetype": "text/x-python",
   "name": "python",
   "nbconvert_exporter": "python",
   "pygments_lexer": "ipython3",
   "version": "3.11.0"
  }
 },
 "nbformat": 4,
 "nbformat_minor": 2
}
