{
 "cells": [
  {
   "cell_type": "code",
   "execution_count": null,
   "metadata": {},
   "outputs": [],
   "source": [
    "import numpy as np\n",
    "import pandas as pd\n",
    "from zoneinfo import ZoneInfo\n",
    "from datetime import datetime, timedelta\n",
    "import meteostat\n",
    "import airportsdata\n",
    "airports = airportsdata.load (\"IATA\")"
   ]
  },
  {
   "cell_type": "code",
   "execution_count": null,
   "metadata": {},
   "outputs": [],
   "source": [
    "master_df = pd.read_csv (\"data/raw-monthly-flight-data/washington/Washington_Flight_Data_July_2023_June_2023.csv\")"
   ]
  },
  {
   "cell_type": "code",
   "execution_count": null,
   "metadata": {},
   "outputs": [],
   "source": [
    "new_weather_df = pd.read_csv(\"data/weather-data-chunks/washington/final_weather_df.csv\")"
   ]
  },
  {
   "cell_type": "code",
   "execution_count": null,
   "metadata": {},
   "outputs": [],
   "source": [
    "master_df['FL_DATE_ONLY'] = pd.to_datetime (master_df['FL_DATE']).dt.date"
   ]
  },
  {
   "cell_type": "code",
   "execution_count": null,
   "metadata": {},
   "outputs": [],
   "source": [
    "master_df.dropna (subset = ['DEP_TIME'], inplace = True)\n",
    "master_df.dropna (subset = ['ARR_TIME'], inplace = True)\n",
    "\n",
    "master_df['DEP_TIME'] = master_df['DEP_TIME'].astype (int)\n",
    "master_df['ARR_TIME'] = master_df['ARR_TIME'].astype (int)\n",
    "\n",
    "max_value = master_df['CRS_ARR_TIME'].max ()\n",
    "master_df.loc[master_df['CRS_ARR_TIME'] == max_value, 'CRS_ARR_TIME'] = 0\n",
    "\n",
    "max_value = master_df['ARR_TIME'].max ()\n",
    "master_df.loc[master_df['ARR_TIME'] == max_value, 'ARR_TIME'] = 0\n",
    "\n",
    "max_value = master_df['DEP_TIME'].max ()\n",
    "master_df.loc[master_df['DEP_TIME'] == max_value, 'DEP_TIME'] = 0\n",
    "\n",
    "master_df['CRS_DEP_TIME'] = master_df['CRS_DEP_TIME'].astype (str).str.zfill (4)\n",
    "master_df['CRS_DEP_TIME'] = pd.to_datetime (master_df['CRS_DEP_TIME'], format = '%H%M').dt.time\n",
    "\n",
    "master_df['CRS_ARR_TIME'] = master_df['CRS_ARR_TIME'].astype (str).str.zfill (4)\n",
    "master_df['CRS_ARR_TIME'] = pd.to_datetime (master_df['CRS_ARR_TIME'], format = '%H%M').dt.time\n",
    "\n",
    "master_df['DEP_TIME'] = master_df['DEP_TIME'].astype (str).str.zfill (4)\n",
    "master_df['DEP_TIME'] = pd.to_datetime (master_df['DEP_TIME'], format = '%H%M').dt.time\n",
    "\n",
    "master_df['ARR_TIME'] = master_df['ARR_TIME'].astype (str).str.zfill (4)\n",
    "master_df['ARR_TIME'] = pd.to_datetime (master_df['ARR_TIME'], format = '%H%M').dt.time"
   ]
  },
  {
   "cell_type": "code",
   "execution_count": null,
   "metadata": {},
   "outputs": [],
   "source": [
    "master_df['FL_DATE_ONLY'] = pd.to_datetime(master_df['FL_DATE_ONLY'])"
   ]
  },
  {
   "cell_type": "code",
   "execution_count": null,
   "metadata": {},
   "outputs": [],
   "source": [
    "master_df['DEP_TIME'] = pd.to_datetime (master_df['DEP_TIME'], format = '%H:%M:%S')\n",
    "\n",
    "master_df['DEP_DATE_TIME'] = master_df['FL_DATE_ONLY'] + pd.to_timedelta (master_df['DEP_TIME'].dt.hour, unit = 'h') + pd.to_timedelta(master_df['DEP_TIME'].dt.minute, unit='m') + pd.to_timedelta(master_df['DEP_TIME'].dt.second, unit='s')"
   ]
  },
  {
   "cell_type": "code",
   "execution_count": null,
   "metadata": {},
   "outputs": [],
   "source": [
    "master_df['ARR_TIME'] = pd.to_datetime(master_df['ARR_TIME'], format='%H:%M:%S')\n",
    "\n",
    "master_df['ARR_DATE_TIME'] = master_df['FL_DATE_ONLY'] + pd.to_timedelta(master_df['ARR_TIME'].dt.hour, unit='h') + pd.to_timedelta(master_df['ARR_TIME'].dt.minute, unit='m') + pd.to_timedelta(master_df['ARR_TIME'].dt.second, unit='s')"
   ]
  },
  {
   "cell_type": "code",
   "execution_count": null,
   "metadata": {},
   "outputs": [],
   "source": [
    "master_df['CRS_DEP_TIME'] = pd.to_datetime(master_df['CRS_DEP_TIME'], format='%H:%M:%S')\n",
    "\n",
    "master_df['CRS_DEP_DATE_TIME'] = master_df['FL_DATE_ONLY'] + pd.to_timedelta(master_df['CRS_DEP_TIME'].dt.hour, unit='h') + pd.to_timedelta(master_df['CRS_DEP_TIME'].dt.minute, unit='m') + pd.to_timedelta(master_df['CRS_DEP_TIME'].dt.second, unit='s')"
   ]
  },
  {
   "cell_type": "code",
   "execution_count": null,
   "metadata": {},
   "outputs": [],
   "source": [
    "master_df['CRS_ARR_TIME'] = pd.to_datetime(master_df['CRS_ARR_TIME'], format='%H:%M:%S')\n",
    "\n",
    "master_df['CRS_ARR_DATE_TIME'] = master_df['FL_DATE_ONLY'] + pd.to_timedelta(master_df['CRS_ARR_TIME'].dt.hour, unit='h') + pd.to_timedelta(master_df['CRS_ARR_TIME'].dt.minute, unit='m') + pd.to_timedelta(master_df['CRS_ARR_TIME'].dt.second, unit='s')"
   ]
  },
  {
   "cell_type": "code",
   "execution_count": null,
   "metadata": {},
   "outputs": [],
   "source": [
    "master_df['OP_UNIQUE_CARRIER'].unique()"
   ]
  },
  {
   "cell_type": "code",
   "execution_count": null,
   "metadata": {},
   "outputs": [],
   "source": [
    "convert_timezone = lambda row: row['CRS_DEP_DATE_TIME'].replace(tzinfo=ZoneInfo(airports[f\"{row['ORIGIN']}\"]['tz'])).astimezone(ZoneInfo('UTC'))\n",
    "\n",
    "master_df['CRS_DEP_DATE_TIME'] = master_df.apply(convert_timezone, axis = 1)"
   ]
  },
  {
   "cell_type": "code",
   "execution_count": null,
   "metadata": {},
   "outputs": [],
   "source": [
    "convert_timezone = lambda row: row['DEP_DATE_TIME'].replace(tzinfo=ZoneInfo(airports[f\"{row['ORIGIN']}\"]['tz'])).astimezone(ZoneInfo('UTC'))\n",
    "\n",
    "master_df['DEP_DATE_TIME'] = master_df.apply(convert_timezone, axis=1)"
   ]
  },
  {
   "cell_type": "code",
   "execution_count": null,
   "metadata": {},
   "outputs": [],
   "source": [
    "convert_timezone = lambda row: row['CRS_ARR_DATE_TIME'].replace(tzinfo=ZoneInfo(airports[f\"{row['DEST']}\"]['tz'])).astimezone(ZoneInfo('UTC'))\n",
    "\n",
    "master_df['CRS_ARR_DATE_TIME'] = master_df.apply(convert_timezone, axis=1)"
   ]
  },
  {
   "cell_type": "code",
   "execution_count": null,
   "metadata": {},
   "outputs": [],
   "source": [
    "convert_timezone = lambda row: row['ARR_DATE_TIME'].replace(tzinfo=ZoneInfo(airports[f\"{row['DEST']}\"]['tz'])).astimezone(ZoneInfo('UTC'))\n",
    "\n",
    "master_df['ARR_DATE_TIME'] = master_df.apply(convert_timezone, axis=1)"
   ]
  },
  {
   "cell_type": "code",
   "execution_count": null,
   "metadata": {},
   "outputs": [],
   "source": [
    "master_df['CRS_DEP_TIME_HOUR'] = master_df['CRS_DEP_DATE_TIME'].apply (lambda x : round (x.hour + x.minute / 60))\n",
    "master_df['CRS_ARR_TIME_HOUR'] = master_df['CRS_ARR_DATE_TIME'].apply (lambda x : round (x.hour + x.minute / 60))\n",
    "master_df['DEP_TIME_HOUR'] = master_df['DEP_DATE_TIME'].apply (lambda x : round (x.hour + x.minute / 60))\n",
    "master_df['ARR_TIME_HOUR'] = master_df['ARR_DATE_TIME'].apply (lambda x : round (x.hour + x.minute / 60))"
   ]
  },
  {
   "cell_type": "code",
   "execution_count": null,
   "metadata": {},
   "outputs": [],
   "source": [
    "master_df = master_df.reset_index ()"
   ]
  },
  {
   "cell_type": "code",
   "execution_count": null,
   "metadata": {},
   "outputs": [],
   "source": [
    "max_value = master_df['CRS_DEP_TIME_HOUR'].max ()\n",
    "master_df.loc[master_df['CRS_DEP_TIME_HOUR'] == max_value, 'CRS_DEP_TIME_HOUR'] = 0\n",
    "\n",
    "max_value = master_df['CRS_ARR_TIME_HOUR'].max ()\n",
    "master_df.loc[master_df['CRS_ARR_TIME_HOUR'] == max_value, 'CRS_ARR_TIME_HOUR'] = 0\n",
    "\n",
    "max_value = master_df['DEP_TIME_HOUR'].max ()\n",
    "master_df.loc[master_df['DEP_TIME_HOUR'] == max_value, 'DEP_TIME_HOUR'] = 0\n",
    "\n",
    "max_value = master_df['ARR_TIME_HOUR'].max ()\n",
    "master_df.loc[master_df['ARR_TIME_HOUR'] == max_value, 'ARR_TIME_HOUR'] = 0"
   ]
  },
  {
   "cell_type": "code",
   "execution_count": null,
   "metadata": {},
   "outputs": [],
   "source": [
    "new_weather_df[['date_only', 'time_only']] = new_weather_df['date'].str.split (pat = ' ', n = 1, expand = True)\n",
    "\n",
    "new_weather_df['time_only'] = pd.to_datetime(new_weather_df['time_only'], format = '%H:%M:%S').dt.time\n",
    "\n",
    "new_weather_df['hour_only'] = new_weather_df['time_only'].apply (lambda x : round (x.hour + x.minute / 60))"
   ]
  },
  {
   "cell_type": "code",
   "execution_count": null,
   "metadata": {},
   "outputs": [],
   "source": [
    "new_weather_df = new_weather_df.drop(columns=['Unnamed: 0.1'\t,'Unnamed: 0'])"
   ]
  },
  {
   "cell_type": "code",
   "execution_count": null,
   "metadata": {},
   "outputs": [],
   "source": [
    "# new_weather_df = pd.read_csv(\"Data/washington_v2_new_weather_df_final_proposal.csv\")\n",
    "# master_df = pd.read_csv(\"Data/washington_v2_master_df_final_proposal.csv\")"
   ]
  },
  {
   "cell_type": "code",
   "execution_count": null,
   "metadata": {},
   "outputs": [],
   "source": [
    "#master_df['FL_DATE_ONLY'] = pd.to_datetime (master_df['FL_DATE_ONLY'])\n",
    "new_weather_df['date_only'] = pd.to_datetime (new_weather_df['date_only'])"
   ]
  },
  {
   "cell_type": "code",
   "execution_count": null,
   "metadata": {},
   "outputs": [],
   "source": [
    "new_weather_df = new_weather_df.rename(columns = {'airport_code':'airport'})"
   ]
  },
  {
   "cell_type": "code",
   "execution_count": null,
   "metadata": {},
   "outputs": [],
   "source": [
    "master_df['FL_DATE_ONLY'] = master_df['FL_DATE_ONLY'].astype('datetime64')"
   ]
  },
  {
   "cell_type": "code",
   "execution_count": null,
   "metadata": {},
   "outputs": [],
   "source": [
    "new_master_df1 = master_df.copy ()\n",
    "\n",
    "merged_df = pd.merge (new_master_df1, new_weather_df, left_on = ['FL_DATE_ONLY', 'CRS_DEP_TIME_HOUR', 'ORIGIN'],\n",
    "                      right_on = ['date_only', 'hour_only', 'airport'], how = 'inner')\n",
    "\n",
    "merged_df = merged_df.drop (['date_only', 'hour_only', 'airport'], axis = 1)"
   ]
  },
  {
   "cell_type": "code",
   "execution_count": null,
   "metadata": {},
   "outputs": [],
   "source": [
    "new_columns = {\n",
    "    #'Unnamed: 0': 'Unnamed: 0_DEP',\n",
    "    'relative_humidity_2m' : 'relative_humidity_2m_DEP',\n",
    "    'wind_gusts_10m' : 'wind_gusts_10m_DEP',\n",
    "    'shortwave_radiation' : 'shortwave_radiation_DEP',\n",
    "    'snowfall' : 'snowfall_DEP',\n",
    "    'wind_direction_100m' : 'wind_direction_100m_DEP',\n",
    "    'snow_depth' : 'snow_depth_DEP',\n",
    "    'precipitation' : 'precipitation_DEP',\n",
    "    'cloud_cover' : 'cloud_cover_DEP',\n",
    "    'wind_speed_100m' : 'wind_speed_100m_DEP',\n",
    "    'rain' : 'rain_DEP',\n",
    "    'temperature_2m' : 'temperature_2m_DEP',\n",
    "    'airport': 'airport_DEP',\n",
    "    'time_only': 'time_only_DEP',\n",
    "}\n",
    "\n",
    "merged_df.rename (columns = new_columns, inplace = True)"
   ]
  },
  {
   "cell_type": "code",
   "execution_count": null,
   "metadata": {},
   "outputs": [],
   "source": [
    "# merged_df.to_csv (\"Data/washington_v2_merged_df_DEP.csv\")"
   ]
  },
  {
   "cell_type": "code",
   "execution_count": null,
   "metadata": {},
   "outputs": [],
   "source": [
    "new_master_df2 = merged_df.copy ()\n",
    "\n",
    "final_merged_df = pd.merge (new_master_df2, new_weather_df, left_on = ['FL_DATE_ONLY', 'CRS_ARR_TIME_HOUR', 'DEST'],\n",
    "                      right_on = ['date_only', 'hour_only', 'airport'], how = 'inner')\n",
    "\n",
    "final_merged_df = final_merged_df.drop (['date_only', 'hour_only', 'airport'], axis = 1)"
   ]
  },
  {
   "cell_type": "code",
   "execution_count": null,
   "metadata": {},
   "outputs": [],
   "source": [
    "new_columns = {\n",
    "    #'Unnamed: 0': 'Unnamed: 0_DEP',\n",
    "    'relative_humidity_2m' : 'relative_humidity_2m_ARR',\n",
    "    'wind_gusts_10m' : 'wind_gusts_10m_ARR',\n",
    "    'shortwave_radiation' : 'shortwave_radiation_ARR',\n",
    "    'snowfall' : 'snowfall_ARR',\n",
    "    'wind_direction_100m' : 'wind_direction_100m_ARR',\n",
    "    'snow_depth' : 'snow_depth_ARR',\n",
    "    'precipitation' : 'precipitation_ARR',\n",
    "    'cloud_cover' : 'cloud_cover_ARR',\n",
    "    'wind_speed_100m' : 'wind_speed_100m_ARR',\n",
    "    'rain' : 'rain_ARR',\n",
    "    'temperature_2m' : 'temperature_2m_ARR',\n",
    "    'airport': 'airport_ARR',\n",
    "    'time_only': 'time_only_ARR',\n",
    "}\n",
    "\n",
    "final_merged_df.rename (columns = new_columns, inplace = True)"
   ]
  },
  {
   "cell_type": "code",
   "execution_count": null,
   "metadata": {},
   "outputs": [],
   "source": [
    "final_merged_df.to_csv (\"data/merged-final-data/Washington_Merged_July_21_June_23.csv\")"
   ]
  },
  {
   "cell_type": "code",
   "execution_count": null,
   "metadata": {},
   "outputs": [],
   "source": [
    "folder_path = 'data/merged-final-data/'  # Replace with your folder path\n",
    "all_files = [os.path.join(folder_path, file) for file in os.listdir(folder_path) if file.endswith('.csv')]\n",
    "\n",
    "all_dataframes = [] \n",
    "for file in all_files:\n",
    "    df = pd.read_csv(file)\n",
    "    all_dataframes.append(df)\n",
    "\n",
    "concatenated_df = pd.concat(all_dataframes, ignore_index=True)\n",
    "\n",
    "concatenated_df.to_csv('data/merged-final-data/Final_Merged_July_21_June_23.csv',index = False)"
   ]
  },
  {
   "cell_type": "code",
   "execution_count": null,
   "metadata": {},
   "outputs": [],
   "source": []
  }
 ],
 "metadata": {
  "language_info": {
   "name": "python"
  }
 },
 "nbformat": 4,
 "nbformat_minor": 2
}
